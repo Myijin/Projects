{
 "cells": [
  {
   "cell_type": "code",
   "execution_count": 1,
   "metadata": {},
   "outputs": [
    {
     "name": "stderr",
     "output_type": "stream",
     "text": [
      "Using TensorFlow backend.\n"
     ]
    }
   ],
   "source": [
    "import data\n",
    "from keras.models import Model # basic class for specifying and training a neural network\n",
    "from keras.models import Sequential\n",
    "from keras.layers import Input, Dense, Flatten, Convolution2D, MaxPooling2D, Dropout\n",
    "from keras.utils import np_utils # utilities for one-hot encoding of ground truth values\n",
    "from keras.regularizers import l2 # L2-regularisation\n",
    "from keras.layers.normalization import BatchNormalization # batch normalisation\n",
    "import matplotlib.pyplot as plt"
   ]
  },
  {
   "cell_type": "code",
   "execution_count": 2,
   "metadata": {},
   "outputs": [
    {
     "name": "stdout",
     "output_type": "stream",
     "text": [
      "Train on 6300 samples, validate on 700 samples\n",
      "Epoch 1/12\n",
      "6300/6300 [==============================] - 0s 41us/step - loss: 2.2189 - acc: 0.3456 - val_loss: 2.1039 - val_acc: 0.5114\n",
      "Epoch 2/12\n",
      "6300/6300 [==============================] - 0s 14us/step - loss: 1.8959 - acc: 0.6919 - val_loss: 1.6916 - val_acc: 0.6986\n",
      "Epoch 3/12\n",
      "6300/6300 [==============================] - 0s 14us/step - loss: 1.4097 - acc: 0.7930 - val_loss: 1.2373 - val_acc: 0.7757\n",
      "Epoch 4/12\n",
      "6300/6300 [==============================] - 0s 14us/step - loss: 0.9929 - acc: 0.8478 - val_loss: 0.9114 - val_acc: 0.8143\n",
      "Epoch 5/12\n",
      "6300/6300 [==============================] - 0s 14us/step - loss: 0.7231 - acc: 0.8705 - val_loss: 0.7104 - val_acc: 0.8414\n",
      "Epoch 6/12\n",
      "6300/6300 [==============================] - 0s 14us/step - loss: 0.5636 - acc: 0.8887 - val_loss: 0.5891 - val_acc: 0.8600\n",
      "Epoch 7/12\n",
      "6300/6300 [==============================] - 0s 14us/step - loss: 0.4662 - acc: 0.9029 - val_loss: 0.5104 - val_acc: 0.8743\n",
      "Epoch 8/12\n",
      "6300/6300 [==============================] - 0s 14us/step - loss: 0.4044 - acc: 0.9097 - val_loss: 0.4576 - val_acc: 0.8886\n",
      "Epoch 9/12\n",
      "6300/6300 [==============================] - 0s 14us/step - loss: 0.3614 - acc: 0.9157 - val_loss: 0.4217 - val_acc: 0.9000\n",
      "Epoch 10/12\n",
      "6300/6300 [==============================] - 0s 14us/step - loss: 0.3297 - acc: 0.9219 - val_loss: 0.3935 - val_acc: 0.9000\n",
      "Epoch 11/12\n",
      "6300/6300 [==============================] - 0s 16us/step - loss: 0.3054 - acc: 0.9238 - val_loss: 0.3718 - val_acc: 0.9043\n",
      "Epoch 12/12\n",
      "6300/6300 [==============================] - 0s 15us/step - loss: 0.2877 - acc: 0.9287 - val_loss: 0.3559 - val_acc: 0.9100\n",
      "4000/4000 [==============================] - 0s 29us/step\n"
     ]
    },
    {
     "data": {
      "text/plain": [
       "[0.295832428753376, 0.92425]"
      ]
     },
     "execution_count": 2,
     "metadata": {},
     "output_type": "execute_result"
    }
   ],
   "source": [
    "# Baseline model\n",
    "num_classes = 10\n",
    "# Each image is 8 by 8 pixels and is represented as a vector of dimension 64 \n",
    "# by listing all the pixel values in raster scan order. The images are grayscale \n",
    "# and the pixel values are between 0 and 1.\n",
    "train_data, train_labels, test_data, test_labels = data.load_all_data('data')\n",
    "train_labels = np_utils.to_categorical(train_labels, num_classes) # One-hot encode the labels\n",
    "test_labels = np_utils.to_categorical(test_labels, num_classes) # One-hot encode the labels\n",
    "\n",
    "model = Sequential()\n",
    "model.add(Dense(64, input_dim=64, kernel_initializer='normal', activation='relu')) # rectifier activation function\n",
    "model.add(Dense(num_classes, kernel_initializer='normal', activation='softmax'))\n",
    "model.compile(loss='categorical_crossentropy', optimizer='adam', metrics=['accuracy'])\n",
    "\n",
    "model.fit(train_data, train_labels, epochs=12, batch_size=200, verbose=1, validation_split=0.1)\n",
    "model.evaluate(test_data, test_labels, verbose=1) # test accuracy 0.924"
   ]
  },
  {
   "cell_type": "code",
   "execution_count": 20,
   "metadata": {},
   "outputs": [
    {
     "data": {
      "image/png": "[encoded data removed]",
      "text/plain": [
       "<matplotlib.figure.Figure at 0x120311978>"
      ]
     },
     "metadata": {},
     "output_type": "display_data"
    },
    {
     "data": {
      "image/png": "[encoded data removed]",
      "text/plain": [
       "<matplotlib.figure.Figure at 0x1192b7e80>"
      ]
     },
     "metadata": {},
     "output_type": "display_data"
    }
   ],
   "source": [
    "Xdat = train_data.reshape(train_data.shape[0], height, width)\n",
    "plt.imshow(Xdat[4], cmap=plt.get_cmap('gray'))\n",
    "plt.show()\n",
    "plt.imshow(Xdat[5], cmap=plt.get_cmap('gray'))\n",
    "plt.show()"
   ]
  },
  {
   "cell_type": "code",
   "execution_count": 3,
   "metadata": {},
   "outputs": [],
   "source": [
    "height, width, depth = 8, 8, 1\n",
    "train_data = train_data.reshape(train_data.shape[0], height, width, depth)\n",
    "test_data = test_data.reshape(test_data.shape[0], height, width, depth)\n",
    "\n",
    "kernel_size = 3 # we will use 3x3 kernels throughout\n",
    "pool_size = 2 # we will use 2x2 pooling throughout\n",
    "conv_depth = 32 # use 32 kernels in both convolutional layers\n",
    "drop_prob_1 = 0.25 # dropout after pooling with probability 0.25\n",
    "drop_prob_2 = 0.5 # dropout in the FC layer with probability 0.5\n",
    "hidden_size = 128 # there will be 128 neurons in both hidden layers\n",
    "l2_lambda = 0.0001 # use 0.0001 as a L2-regularisation factor"
   ]
  },
  {
   "cell_type": "code",
   "execution_count": 12,
   "metadata": {},
   "outputs": [
    {
     "name": "stdout",
     "output_type": "stream",
     "text": [
      "(7000, 8, 8, 1)\n",
      "(7000, 10)\n"
     ]
    }
   ],
   "source": [
    "print(train_data.shape)\n",
    "print(train_labels.shape)"
   ]
  },
  {
   "cell_type": "code",
   "execution_count": 5,
   "metadata": {},
   "outputs": [],
   "source": [
    "inp = Input(shape=(height, width, depth)) # N.B. TensorFlow back-end expects channel dimension last\n",
    "conv_1 = Convolution2D(conv_depth, (kernel_size, kernel_size), padding='same', kernel_initializer='he_uniform', \n",
    "                       kernel_regularizer=l2(l2_lambda), activation='relu')(inp)\n",
    "conv_2 = Convolution2D(conv_depth, (kernel_size, kernel_size), padding='same', kernel_initializer='he_uniform', \n",
    "                       kernel_regularizer=l2(l2_lambda), activation='relu')(conv_1)\n",
    "pool_1 = MaxPooling2D(pool_size=(pool_size, pool_size))(conv_2) # pooling layer\n",
    "drop_1 = Dropout(drop_prob_1)(pool_1) # a regularization layer using dropout\n",
    "flat = Flatten()(drop_1) # converts the 2D matrix data to a vector\n",
    "hidden = Dense(hidden_size, activation='relu')(flat) # Hidden ReLU layer\n",
    "drop = Dropout(drop_prob_2)(hidden)\n",
    "out = Dense(num_classes, activation='softmax')(drop) # Output softmax layer\n",
    "model = Model(inputs=inp, outputs=out) # To define a model, just specify its input and output layers"
   ]
  },
  {
   "cell_type": "code",
   "execution_count": 9,
   "metadata": {},
   "outputs": [
    {
     "name": "stdout",
     "output_type": "stream",
     "text": [
      "Train on 6300 samples, validate on 700 samples\n",
      "Epoch 1/12\n",
      "6300/6300 [==============================] - 2s 365us/step - loss: 0.0493 - acc: 0.9911 - val_loss: 0.0743 - val_acc: 0.9857\n",
      "Epoch 2/12\n",
      "6300/6300 [==============================] - 1s 232us/step - loss: 0.0563 - acc: 0.9863 - val_loss: 0.0687 - val_acc: 0.9871\n",
      "Epoch 3/12\n",
      "6300/6300 [==============================] - 1s 233us/step - loss: 0.0479 - acc: 0.9902 - val_loss: 0.0679 - val_acc: 0.9857\n",
      "Epoch 4/12\n",
      "6300/6300 [==============================] - 1s 234us/step - loss: 0.0457 - acc: 0.9908 - val_loss: 0.0714 - val_acc: 0.9871\n",
      "Epoch 5/12\n",
      "6300/6300 [==============================] - 2s 243us/step - loss: 0.0457 - acc: 0.9894 - val_loss: 0.0725 - val_acc: 0.9857\n",
      "Epoch 6/12\n",
      "6300/6300 [==============================] - 1s 234us/step - loss: 0.0441 - acc: 0.9905 - val_loss: 0.0730 - val_acc: 0.9871\n",
      "Epoch 7/12\n",
      "6300/6300 [==============================] - 1s 236us/step - loss: 0.0497 - acc: 0.9897 - val_loss: 0.0737 - val_acc: 0.9857\n",
      "Epoch 8/12\n",
      "6300/6300 [==============================] - 2s 247us/step - loss: 0.0453 - acc: 0.9914 - val_loss: 0.0717 - val_acc: 0.9886\n",
      "Epoch 9/12\n",
      "6300/6300 [==============================] - 1s 234us/step - loss: 0.0446 - acc: 0.9911 - val_loss: 0.0761 - val_acc: 0.9857\n",
      "Epoch 10/12\n",
      "6300/6300 [==============================] - 1s 237us/step - loss: 0.0475 - acc: 0.9900 - val_loss: 0.0716 - val_acc: 0.9871\n",
      "Epoch 11/12\n",
      "6300/6300 [==============================] - 1s 235us/step - loss: 0.0412 - acc: 0.9922 - val_loss: 0.0668 - val_acc: 0.9857\n",
      "Epoch 12/12\n",
      "6300/6300 [==============================] - 2s 248us/step - loss: 0.0395 - acc: 0.9922 - val_loss: 0.0678 - val_acc: 0.9886\n",
      "4000/4000 [==============================] - 0s 107us/step\n"
     ]
    },
    {
     "data": {
      "text/plain": [
       "[0.053265751853585244, 0.98925]"
      ]
     },
     "execution_count": 9,
     "metadata": {},
     "output_type": "execute_result"
    }
   ],
   "source": [
    "model.compile(loss='categorical_crossentropy', # using the cross-entropy loss function\n",
    "              optimizer='adam', # using the Adam optimiser\n",
    "              metrics=['accuracy']) # reporting the accuracy\n",
    "\n",
    "model.fit(train_data, train_labels,\n",
    "          batch_size=300, epochs=12,\n",
    "          verbose=1, validation_split=0.1) # 10% data for validation\n",
    "model.evaluate(test_data, test_labels, verbose=1) # test loss 0.05, test accuracy 0.98925"
   ]
  },
  {
   "cell_type": "code",
   "execution_count": null,
   "metadata": {},
   "outputs": [],
   "source": [
    ""
   ]
  }
 ],
 "metadata": {
  "kernelspec": {
   "display_name": "Python 3",
   "language": "python",
   "name": "python3"
  },
  "language_info": {
   "codemirror_mode": {
    "name": "ipython",
    "version": 3.0
   },
   "file_extension": ".py",
   "mimetype": "text/x-python",
   "name": "python",
   "nbconvert_exporter": "python",
   "pygments_lexer": "ipython3",
   "version": "3.4.4"
  }
 },
 "nbformat": 4,
 "nbformat_minor": 0
}