{
 "cells": [
  {
   "cell_type": "code",
   "execution_count": 1,
   "metadata": {
    "collapsed": true
   },
   "outputs": [],
   "source": [
    "# show the matplotlib plotted graph within notebook lines.\n",
    "import matplotlib.pyplot as plt\n",
    "%matplotlib inline\n",
    "import seaborn as sns"
   ]
  },
  {
   "cell_type": "markdown",
   "metadata": {},
   "source": [
    "### In case that your tqdm is not installed. Please go to the Start(Windows)->Anaconda2(64-bit)->Anaconda Prompt(py35)\n",
    "\n",
    "### type: conda install tqdm -y"
   ]
  },
  {
   "cell_type": "code",
   "execution_count": 2,
   "metadata": {},
   "outputs": [
    {
     "name": "stderr",
     "output_type": "stream",
     "text": [
      "C:\\Anaconda\\envs\\py35\\lib\\site-packages\\sklearn\\cross_validation.py:44: DeprecationWarning: This module was deprecated in version 0.18 in favor of the model_selection module into which all the refactored classes and functions are moved. Also note that the interface of the new CV iterators are different from that of this module. This module will be removed in 0.20.\n",
      "  \"This module will be removed in 0.20.\", DeprecationWarning)\n",
      "C:\\Anaconda\\envs\\py35\\lib\\site-packages\\sklearn\\grid_search.py:43: DeprecationWarning: This module was deprecated in version 0.18 in favor of the model_selection module into which all the refactored classes and functions are moved. This module will be removed in 0.20.\n",
      "  DeprecationWarning)\n"
     ]
    },
    {
     "name": "stdout",
     "output_type": "stream",
     "text": [
      "[nltk_data] Downloading package stopwords to C:\\Windows\\ServiceProfile\n",
      "[nltk_data]     s\\LocalService\\AppData\\Roaming\\nltk_data...\n",
      "[nltk_data]   Unzipping corpora\\stopwords.zip.\n"
     ]
    },
    {
     "data": {
      "text/plain": [
       "True"
      ]
     },
     "execution_count": 2,
     "metadata": {},
     "output_type": "execute_result"
    }
   ],
   "source": [
    "# import required libraries\n",
    "# pandas:Data framework library for Python\n",
    "# sklearn: Library to perform machine learning tasks\n",
    "import os\n",
    "import time\n",
    "from tqdm import tqdm\n",
    "import pandas as pd\n",
    "import numpy as np\n",
    "import scipy\n",
    "import scipy.stats as st\n",
    "import re\n",
    "import codecs\n",
    "from collections import Counter\n",
    "import nltk\n",
    "from nltk.stem import *\n",
    "from nltk.corpus import stopwords\n",
    "import sklearn \n",
    "import sklearn.datasets\n",
    "import sklearn.metrics as metrics \n",
    "from sklearn.metrics import accuracy_score\n",
    "from sklearn.naive_bayes import GaussianNB\n",
    "from sklearn.linear_model import LogisticRegression\n",
    "from sklearn.cross_validation import StratifiedKFold\n",
    "from sklearn.svm import SVC\n",
    "from sklearn.grid_search import GridSearchCV\n",
    "from sklearn.metrics import classification_report\n",
    "from sklearn.cross_validation import train_test_split\n",
    "from sklearn.preprocessing import label_binarize\n",
    "from scipy import stats\n",
    "nltk.download(\"stopwords\")"
   ]
  },
  {
   "cell_type": "code",
   "execution_count": 3,
   "metadata": {},
   "outputs": [
    {
     "name": "stderr",
     "output_type": "stream",
     "text": [
      "gzip: 20news-19997.tar already exists;\tnot overwritten\n"
     ]
    }
   ],
   "source": [
    "# extract data\n",
    "!gzip -d -k 20news-19997.tar.gz\n",
    "!tar -xf 20news-19997.tar"
   ]
  },
  {
   "cell_type": "code",
   "execution_count": 3,
   "metadata": {},
   "outputs": [
    {
     "name": "stdout",
     "output_type": "stream",
     "text": [
      "alt.atheism\n",
      "comp.graphics\n",
      "comp.os.ms-windows.misc\n",
      "comp.sys.ibm.pc.hardware\n",
      "comp.sys.mac.hardware\n",
      "comp.windows.x\n",
      "misc.forsale\n",
      "rec.autos\n",
      "rec.motorcycles\n",
      "rec.sport.baseball\n",
      "rec.sport.hockey\n",
      "sci.crypt\n",
      "sci.electronics\n",
      "sci.med\n",
      "sci.space\n",
      "soc.religion.christian\n",
      "talk.politics.guns\n",
      "talk.politics.mideast\n",
      "talk.politics.misc\n",
      "talk.religion.misc\n"
     ]
    }
   ],
   "source": [
    "# display newsgroups directories\n",
    "!ls 20_newsgroups"
   ]
  },
  {
   "cell_type": "markdown",
   "metadata": {},
   "source": [
    "## Support functions"
   ]
  },
  {
   "cell_type": "code",
   "execution_count": 4,
   "metadata": {
    "collapsed": true
   },
   "outputs": [],
   "source": [
    "def getFilesDirectory(datapath='20_newsgroups'):\n",
    "    # create file directory for all files\n",
    "    files = []\n",
    "    for (path, dirnames, filenames) in os.walk(datapath):\n",
    "        files.extend(os.path.join(path, name) for name in filenames)\n",
    "    # putting file directories into pandas dataframe\n",
    "    directorydf= pd.DataFrame(files)\n",
    "    directorydf.columns = ['Directories']\n",
    "    return directorydf"
   ]
  },
  {
   "cell_type": "code",
   "execution_count": 5,
   "metadata": {
    "collapsed": true
   },
   "outputs": [],
   "source": [
    "directorydf = getFilesDirectory()"
   ]
  },
  {
   "cell_type": "code",
   "execution_count": 6,
   "metadata": {
    "collapsed": true
   },
   "outputs": [],
   "source": [
    "# create function to help encoding the targets\n",
    "def label_target (d):\n",
    "    if d.find(\"alt.atheism\") > 0 :\n",
    "      return 0\n",
    "    if d.find(\"comp.graphics\") > 0:\n",
    "      return 1\n",
    "    if d.find(\"comp.os.ms-windows.misc\") > 0:\n",
    "      return 2\n",
    "    if d.find(\"comp.sys.ibm.pc.hardware\") > 0:\n",
    "      return 3\n",
    "    if d.find(\"comp.sys.mac.hardware\") > 0:\n",
    "      return 4\n",
    "    if d.find(\"comp.windows.x\") > 0:\n",
    "      return 5\n",
    "    if d.find(\"misc.forsale\") > 0:\n",
    "      return 6\n",
    "    if d.find(\"rec.autos\") > 0:\n",
    "      return 7\n",
    "    if d.find(\"rec.motorcycles\") > 0:\n",
    "      return 8\n",
    "    if d.find(\"rec.sport.baseball\") > 0:\n",
    "      return 9\n",
    "    if d.find(\"rec.sport.hockey\") > 0:\n",
    "      return 10\n",
    "    if d.find(\"sci.crypt\") > 0:\n",
    "      return 11\n",
    "    if d.find(\"sci.electronics\") > 0:\n",
    "      return 12\n",
    "    if d.find(\"sci.med\") > 0:\n",
    "      return 13\n",
    "    if d.find(\"sci.space\") > 0:\n",
    "      return 14\n",
    "    if d.find(\"soc.religion.christian\") > 0:\n",
    "      return 15\n",
    "    if d.find(\"talk.politics.guns\") > 0:\n",
    "      return 16\n",
    "    if d.find(\"talk.politics.mideast\") > 0:\n",
    "      return 17\n",
    "    if d.find(\"talk.politics.misc\") > 0:\n",
    "      return 18\n",
    "    if d.find(\"talk.religion.misc\") > 0:\n",
    "      return 19\n",
    "    return 'Other'"
   ]
  },
  {
   "cell_type": "markdown",
   "metadata": {},
   "source": [
    "## Q1"
   ]
  },
  {
   "cell_type": "markdown",
   "metadata": {},
   "source": [
    "### (a) \n",
    "(i) The text is processed by converting words to lowercase, filtering stopwords, removing numbers 1-9, and keeping only words with more than 2 letters.\n",
    "\n",
    "(ii) Features are ranked by term frequency since words with higher frequency may be more important.\n",
    "\n",
    "(iii) The top 500 most common features are selected. Larger amount of features may contain more information but too many features would take a long time to compute."
   ]
  },
  {
   "cell_type": "markdown",
   "metadata": {},
   "source": [
    "### (b)"
   ]
  },
  {
   "cell_type": "code",
   "execution_count": 7,
   "metadata": {
    "collapsed": true
   },
   "outputs": [],
   "source": [
    "def dataPreprocessor(k, fs, encode, directorydf, size=None):\n",
    "    \"\"\"\n",
    "    INPUT\n",
    "        k: int. number of features to use\n",
    "        fs: string. From ['tf', 'mi']\n",
    "        encode: string. From ['tf', 'boolean']\n",
    "        drectorydf: Dataframe. It is given, see above support functions\n",
    "        size: int. Sample size. Default should be the data size.\n",
    "    OUTPUT\n",
    "        data: Dataframe. preprocessed data\n",
    "    \n",
    "    ps: 'tf' means term frequency, 'mi' means mutual information\n",
    "    \"\"\"\n",
    "    \n",
    "    ########### your code goes here ###########\n",
    "    counter = Counter()\n",
    "    lemma = WordNetLemmatizer().lemmatize\n",
    "    stopword = set(stopwords.words('english'))\n",
    "    # Open the files and count the word frequency in each file in a loop and update the counter after finished processing a file\n",
    "    for rownum, row in enumerate(directorydf.itertuples()):\n",
    "        with codecs.open(row.Directories,\"r\" ,encoding='utf-8', errors='ignore') as myfile:\n",
    "            counter.update([lemma(word) for word in re.findall(r'\\w+', myfile.read().lower()) if (lemma(word) not in stopword and len(lemma(word).lstrip('0123456789')) > 2)])\n",
    "        if (rownum % 2000 == 0):\n",
    "            print(\"processed %d files\" % (rownum+1))\n",
    "    topk = counter.most_common(k)\n",
    "    np = []\n",
    "    # now we had top k words, count the frequecy of these words in individual file\n",
    "    if (encode == 'tf'):\n",
    "        for rownum, row in enumerate(directorydf.itertuples()):\n",
    "            with codecs.open(row.Directories,\"r\" ,encoding='utf-8', errors='ignore') as myfile:\n",
    "                tempCounter = Counter([lemma(word) for word in re.findall(r'\\w+', myfile.read().lower())])\n",
    "                topkinDoc = [tempCounter[word] for (word,wordCount) in topk]\n",
    "                np.append(topkinDoc+[label_target(row.Directories)]+[row.Directories])\n",
    "                if (rownum % 2000 == 0):\n",
    "                    print(\"processed %d files\" % (rownum+1))\n",
    "    elif (encode == 'boolean'):    \n",
    "        for rownum, row in enumerate(directorydf.itertuples()):\n",
    "            with codecs.open(row.Directories,\"r\" ,encoding='utf-8', errors='ignore') as myfile:\n",
    "                tempCounter = Counter([lemma(word) for word in re.findall(r'\\w+', myfile.read().lower())])\n",
    "                # if the word appears in the doc, then 1, else \n",
    "                topkinDoc = [1 if tempCounter[word] > 0 else 0 for (word,wordCount) in topk]\n",
    "                # create a list for top k words with encoded target and its label\n",
    "                np.append(topkinDoc+[label_target(row.Directories)]+[row.Directories])\n",
    "                if (rownum % 2000 == 0):\n",
    "                    print(\"processed %d files\" % (rownum+1))\n",
    "                \n",
    "    data = pd.DataFrame(np)\n",
    "    dfName = []\n",
    "    for c in topk:\n",
    "        dfName.append(c[0])\n",
    "    data.columns = dfName+['target','label']\n",
    "    ###########         end         ###########\n",
    "    return data"
   ]
  },
  {
   "cell_type": "code",
   "execution_count": 9,
   "metadata": {},
   "outputs": [
    {
     "name": "stdout",
     "output_type": "stream",
     "text": [
      "processed 1 files\n",
      "processed 2001 files\n",
      "processed 4001 files\n",
      "processed 6001 files\n",
      "processed 8001 files\n",
      "processed 10001 files\n",
      "processed 12001 files\n",
      "processed 14001 files\n",
      "processed 16001 files\n",
      "processed 18001 files\n",
      "processed 1 files\n",
      "processed 2001 files\n",
      "processed 4001 files\n",
      "processed 6001 files\n",
      "processed 8001 files\n",
      "processed 10001 files\n",
      "processed 12001 files\n",
      "processed 14001 files\n",
      "processed 16001 files\n",
      "processed 18001 files\n"
     ]
    }
   ],
   "source": [
    "data = dataPreprocessor(k=500, fs='tf', encode='tf', directorydf=directorydf, size=None)"
   ]
  },
  {
   "cell_type": "code",
   "execution_count": 10,
   "metadata": {},
   "outputs": [
    {
     "data": {
      "text/html": [
       "<div>\n",
       "<style>\n",
       "    .dataframe thead tr:only-child th {\n",
       "        text-align: right;\n",
       "    }\n",
       "\n",
       "    .dataframe thead th {\n",
       "        text-align: left;\n",
       "    }\n",
       "\n",
       "    .dataframe tbody tr th {\n",
       "        vertical-align: top;\n",
       "    }\n",
       "</style>\n",
       "<table border=\"1\" class=\"dataframe\">\n",
       "  <thead>\n",
       "    <tr style=\"text-align: right;\">\n",
       "      <th></th>\n",
       "      <th>edu</th>\n",
       "      <th>cmu</th>\n",
       "      <th>com</th>\n",
       "      <th>news</th>\n",
       "      <th>srv</th>\n",
       "      <th>cantaloupe</th>\n",
       "      <th>net</th>\n",
       "      <th>line</th>\n",
       "      <th>message</th>\n",
       "      <th>subject</th>\n",
       "      <th>...</th>\n",
       "      <th>understand</th>\n",
       "      <th>friend</th>\n",
       "      <th>memory</th>\n",
       "      <th>often</th>\n",
       "      <th>city</th>\n",
       "      <th>rule</th>\n",
       "      <th>pay</th>\n",
       "      <th>important</th>\n",
       "      <th>target</th>\n",
       "      <th>label</th>\n",
       "    </tr>\n",
       "  </thead>\n",
       "  <tbody>\n",
       "    <tr>\n",
       "      <th>0</th>\n",
       "      <td>10</td>\n",
       "      <td>5</td>\n",
       "      <td>1</td>\n",
       "      <td>4</td>\n",
       "      <td>3</td>\n",
       "      <td>2</td>\n",
       "      <td>2</td>\n",
       "      <td>2</td>\n",
       "      <td>1</td>\n",
       "      <td>2</td>\n",
       "      <td>...</td>\n",
       "      <td>0</td>\n",
       "      <td>1</td>\n",
       "      <td>0</td>\n",
       "      <td>3</td>\n",
       "      <td>0</td>\n",
       "      <td>0</td>\n",
       "      <td>0</td>\n",
       "      <td>0</td>\n",
       "      <td>0</td>\n",
       "      <td>20_newsgroups\\alt.atheism\\49960</td>\n",
       "    </tr>\n",
       "    <tr>\n",
       "      <th>1</th>\n",
       "      <td>5</td>\n",
       "      <td>4</td>\n",
       "      <td>1</td>\n",
       "      <td>3</td>\n",
       "      <td>3</td>\n",
       "      <td>2</td>\n",
       "      <td>1</td>\n",
       "      <td>1</td>\n",
       "      <td>4</td>\n",
       "      <td>3</td>\n",
       "      <td>...</td>\n",
       "      <td>1</td>\n",
       "      <td>5</td>\n",
       "      <td>0</td>\n",
       "      <td>5</td>\n",
       "      <td>0</td>\n",
       "      <td>5</td>\n",
       "      <td>0</td>\n",
       "      <td>4</td>\n",
       "      <td>0</td>\n",
       "      <td>20_newsgroups\\alt.atheism\\51060</td>\n",
       "    </tr>\n",
       "    <tr>\n",
       "      <th>2</th>\n",
       "      <td>7</td>\n",
       "      <td>3</td>\n",
       "      <td>3</td>\n",
       "      <td>2</td>\n",
       "      <td>2</td>\n",
       "      <td>1</td>\n",
       "      <td>1</td>\n",
       "      <td>1</td>\n",
       "      <td>1</td>\n",
       "      <td>1</td>\n",
       "      <td>...</td>\n",
       "      <td>0</td>\n",
       "      <td>0</td>\n",
       "      <td>0</td>\n",
       "      <td>0</td>\n",
       "      <td>0</td>\n",
       "      <td>0</td>\n",
       "      <td>0</td>\n",
       "      <td>0</td>\n",
       "      <td>0</td>\n",
       "      <td>20_newsgroups\\alt.atheism\\51119</td>\n",
       "    </tr>\n",
       "    <tr>\n",
       "      <th>3</th>\n",
       "      <td>6</td>\n",
       "      <td>4</td>\n",
       "      <td>1</td>\n",
       "      <td>1</td>\n",
       "      <td>3</td>\n",
       "      <td>2</td>\n",
       "      <td>1</td>\n",
       "      <td>1</td>\n",
       "      <td>1</td>\n",
       "      <td>1</td>\n",
       "      <td>...</td>\n",
       "      <td>0</td>\n",
       "      <td>0</td>\n",
       "      <td>0</td>\n",
       "      <td>0</td>\n",
       "      <td>0</td>\n",
       "      <td>0</td>\n",
       "      <td>0</td>\n",
       "      <td>0</td>\n",
       "      <td>0</td>\n",
       "      <td>20_newsgroups\\alt.atheism\\51120</td>\n",
       "    </tr>\n",
       "    <tr>\n",
       "      <th>4</th>\n",
       "      <td>4</td>\n",
       "      <td>4</td>\n",
       "      <td>10</td>\n",
       "      <td>0</td>\n",
       "      <td>3</td>\n",
       "      <td>2</td>\n",
       "      <td>1</td>\n",
       "      <td>1</td>\n",
       "      <td>1</td>\n",
       "      <td>1</td>\n",
       "      <td>...</td>\n",
       "      <td>0</td>\n",
       "      <td>0</td>\n",
       "      <td>0</td>\n",
       "      <td>0</td>\n",
       "      <td>0</td>\n",
       "      <td>0</td>\n",
       "      <td>0</td>\n",
       "      <td>0</td>\n",
       "      <td>0</td>\n",
       "      <td>20_newsgroups\\alt.atheism\\51121</td>\n",
       "    </tr>\n",
       "  </tbody>\n",
       "</table>\n",
       "<p>5 rows × 502 columns</p>\n",
       "</div>"
      ],
      "text/plain": [
       "   edu  cmu  com  news  srv  cantaloupe  net  line  message  subject  \\\n",
       "0   10    5    1     4    3           2    2     2        1        2   \n",
       "1    5    4    1     3    3           2    1     1        4        3   \n",
       "2    7    3    3     2    2           1    1     1        1        1   \n",
       "3    6    4    1     1    3           2    1     1        1        1   \n",
       "4    4    4   10     0    3           2    1     1        1        1   \n",
       "\n",
       "                ...                 understand  friend  memory  often  city  \\\n",
       "0               ...                          0       1       0      3     0   \n",
       "1               ...                          1       5       0      5     0   \n",
       "2               ...                          0       0       0      0     0   \n",
       "3               ...                          0       0       0      0     0   \n",
       "4               ...                          0       0       0      0     0   \n",
       "\n",
       "   rule  pay  important  target                            label  \n",
       "0     0    0          0       0  20_newsgroups\\alt.atheism\\49960  \n",
       "1     5    0          4       0  20_newsgroups\\alt.atheism\\51060  \n",
       "2     0    0          0       0  20_newsgroups\\alt.atheism\\51119  \n",
       "3     0    0          0       0  20_newsgroups\\alt.atheism\\51120  \n",
       "4     0    0          0       0  20_newsgroups\\alt.atheism\\51121  \n",
       "\n",
       "[5 rows x 502 columns]"
      ]
     },
     "execution_count": 10,
     "metadata": {},
     "output_type": "execute_result"
    }
   ],
   "source": [
    "data.head()"
   ]
  },
  {
   "cell_type": "markdown",
   "metadata": {},
   "source": [
    "### (c)"
   ]
  },
  {
   "cell_type": "code",
   "execution_count": 11,
   "metadata": {
    "collapsed": true
   },
   "outputs": [],
   "source": [
    "#Confidence Interval Function\n",
    "import scipy.stats\n",
    "from math import sqrt\n",
    "def mean_confidence_interval(data, confidence=0.95):\n",
    "    a = 1.0*np.array(data)\n",
    "    n = len(a)\n",
    "    mu,sd = np.mean(a),np.std(a)\n",
    "    z = stats.t.ppf(confidence, n)\n",
    "    h=z*sd/sqrt(n)\n",
    "    return mu, h"
   ]
  },
  {
   "cell_type": "code",
   "execution_count": 12,
   "metadata": {
    "collapsed": true
   },
   "outputs": [],
   "source": [
    "def randomSplitCI(data, clf, num_run, **params):\n",
    "    \"\"\"\n",
    "    INPUT\n",
    "        data: 2D numpy array. Pre-processed data\n",
    "        clf: string. Name of the classifier from ['LR', 'SVM', 'NB']\n",
    "        num_run: int. How many times you want to run for random evaluation?\n",
    "        params: string->real. Hyper-parameter of classifier. PS: c=1.0, r=0.01\n",
    "    \n",
    "    OUTPUT\n",
    "        train_scores: list. Results of trails\n",
    "        test_scores: list. Results of trails\n",
    "        train_mean: scalar. Average accuracy\n",
    "        test_mean: scalar. Average accuracy\n",
    "        train_ci: scalar. Confidence Interval\n",
    "        test_ci: scalar. Confidence Interval\n",
    "    \"\"\"\n",
    "    \n",
    "    ########### your code goes here ###########\n",
    "    num_f = len(data.columns)-2\n",
    "    features_df = data.iloc[:, 0:num_f]\n",
    "    features = features_df.as_matrix()\n",
    "    target_df = data['target']\n",
    "    target = target_df.as_matrix()\n",
    "    \n",
    "    if clf =='LR':\n",
    "        clf = LogisticRegression(C=params['c'])\n",
    "    elif clf =='SVM':\n",
    "        clf = SVC(C=params['c'], probability= True)\n",
    "    elif clf =='NB':\n",
    "        clf = GaussianNB()\n",
    "        \n",
    "    train_scores = []\n",
    "    test_scores = []\n",
    "    for i in range(num_run):\n",
    "        features_train, features_test, target_train, target_test = train_test_split(features, target, test_size=0.3)\n",
    "        # train the features and target datasets and fit to a model\n",
    "        clfModel = clf.fit(features_train, target_train)\n",
    "        train_pred = clfModel.predict(features_train)\n",
    "        test_pred = clfModel.predict(features_test)\n",
    "        train_scores.append(accuracy_score(target_train, train_pred))\n",
    "        test_scores.append(accuracy_score(target_test, test_pred))\n",
    "    train_mean = np.mean(train_scores)\n",
    "    test_mean = np.mean(test_scores)\n",
    "    train_ci = mean_confidence_interval(train_scores, confidence=0.95)[1]\n",
    "    test_ci = mean_confidence_interval(test_scores, confidence=0.95)[1]\n",
    "    ###########         end         ###########\n",
    "    return train_scores,test_scores,train_mean,test_mean,train_ci,test_ci\n",
    "    "
   ]
  },
  {
   "cell_type": "code",
   "execution_count": 13,
   "metadata": {},
   "outputs": [
    {
     "name": "stdout",
     "output_type": "stream",
     "text": [
      "Train    \n",
      "Result of trails:[0.95191826820032865, 0.95277559477030793, 0.95320425805529752, 0.95241837536614993, 0.95520468671858261, 0.95313281417446594, 0.95413302850610848, 0.95206115596199181, 0.95334714581696078, 0.95248981924698151]     \n",
      "Average Accuracy: 0.9530685146817175     \n",
      "Confidence Interval: 0.0005430681233338996\n",
      "\n",
      "Test    \n",
      "Result of trails:[0.93866666666666665, 0.9378333333333333, 0.93700000000000006, 0.9361666666666667, 0.9351666666666667, 0.93733333333333335, 0.93916666666666671, 0.9375, 0.9365, 0.93899999999999995]     \n",
      "Average Accuracy: 0.9374333333333335     \n",
      "Confidence Interval: 0.0007009224575125223\n"
     ]
    }
   ],
   "source": [
    "train_scores,test_scores,train_mean,test_mean,train_ci,test_ci = randomSplitCI(data, 'LR', 10, c=0.01)\n",
    "print(\"Train\\\n",
    "    \\nResult of trails:{0} \\\n",
    "    \\nAverage Accuracy: {1} \\\n",
    "    \\nConfidence Interval: {2}\\n\".format(train_scores, train_mean, train_ci)\n",
    "     )\n",
    "print(\"Test\\\n",
    "    \\nResult of trails:{0} \\\n",
    "    \\nAverage Accuracy: {1} \\\n",
    "    \\nConfidence Interval: {2}\".format(test_scores, test_mean, test_ci)\n",
    "     )"
   ]
  },
  {
   "cell_type": "markdown",
   "metadata": {},
   "source": [
    "### (d)"
   ]
  },
  {
   "cell_type": "markdown",
   "metadata": {
    "collapsed": true
   },
   "source": [
    "The average shows the average accuracy score of 10 trials. The confidence interval shows the true mean accuracy falls between two values (e.g. 0.937±0.0007 for test accuracy).\n",
    "They are more informative than a single trial because accuracy scores can be different due to selection of different training data."
   ]
  },
  {
   "cell_type": "markdown",
   "metadata": {},
   "source": [
    "### (e)"
   ]
  },
  {
   "cell_type": "code",
   "execution_count": 14,
   "metadata": {
    "collapsed": true
   },
   "outputs": [],
   "source": [
    "def randomSplitCM(data, clf, num_run, **params):\n",
    "    \"\"\"\n",
    "    INPUT\n",
    "        data: Dataframe. Pre-processed data\n",
    "        clf: string. Name of the classifier from ['LR', 'SVM', 'NB']\n",
    "        params: string->real. Hyper-parameter of classifier. PS: c=1.0, r=0.01\n",
    "    \n",
    "    OUTPUT\n",
    "        cm: pandas.DataFrame. Confusion Matrix\n",
    "    \"\"\"\n",
    "    \n",
    "    ########### your code goes here ###########\n",
    "    num_f = len(data.columns)-2\n",
    "    features_df = data.iloc[:, 0:num_f]\n",
    "    features = features_df.as_matrix()\n",
    "    target_df = data['target']\n",
    "    target = target_df.as_matrix()\n",
    "    \n",
    "    if clf =='LR':\n",
    "        clf = LogisticRegression(C=params['c'])\n",
    "    elif clf =='SVM':\n",
    "        clf = SVC(C=params['c'], probability= True)\n",
    "        clf = GridSearchCV(svc_clf, parameters, cv=5, scoring='accuracy')\n",
    "    elif clf =='NB':\n",
    "        clf = GaussianNB()\n",
    "    \n",
    "    cms = {}\n",
    "    for i in range(num_run):\n",
    "        features_train, features_test, target_train, target_test = train_test_split(features, target, test_size=0.3)\n",
    "        # train the features and target datasets and fit to a model\n",
    "        clfModel = clf.fit(features_train, target_train)\n",
    "        target_pred = clfModel.predict(features_test)\n",
    "        cms[i] = pd.DataFrame(metrics.confusion_matrix(target_test, target_pred))\n",
    "    # Panel of all test set confusion matrices\n",
    "    pl = pd.Panel(cms)\n",
    "    cm = pl.sum(axis=0) #Sum the confusion matrices to get one view of how well the classifiers perform\n",
    "    ###########         end         ###########\n",
    "    return cm"
   ]
  },
  {
   "cell_type": "code",
   "execution_count": 15,
   "metadata": {},
   "outputs": [
    {
     "name": "stderr",
     "output_type": "stream",
     "text": [
      "C:\\Anaconda\\envs\\py35\\lib\\site-packages\\ipykernel\\__main__.py:1: DeprecationWarning: \n",
      "Panel is deprecated and will be removed in a future version.\n",
      "The recommended way to represent these types of 3-dimensional data are with a MultiIndex on a DataFrame, via the Panel.to_frame() method\n",
      "Alternatively, you can use the xarray package http://xarray.pydata.org/en/stable/.\n",
      "Pandas provides a `.to_xarray()` method to help automate this conversion.\n",
      "\n",
      "  if __name__ == '__main__':\n"
     ]
    }
   ],
   "source": [
    "cm = randomSplitCM(data, 'LR', 10, c=0.01)"
   ]
  },
  {
   "cell_type": "markdown",
   "metadata": {},
   "source": [
    "### (f)"
   ]
  },
  {
   "cell_type": "code",
   "execution_count": 16,
   "metadata": {},
   "outputs": [
    {
     "data": {
      "text/plain": [
       "<matplotlib.axes._subplots.AxesSubplot at 0x23722046cf8>"
      ]
     },
     "execution_count": 16,
     "metadata": {},
     "output_type": "execute_result"
    },
    {
     "data": {
      "image/png": "[encoded data removed]",
      "text/plain": [
       "<matplotlib.figure.Figure at 0x23721371a90>"
      ]
     },
     "metadata": {},
     "output_type": "display_data"
    }
   ],
   "source": [
    "sns.heatmap(cm)"
   ]
  },
  {
   "cell_type": "markdown",
   "metadata": {},
   "source": [
    "The plot shows that classes more easily confused are class 19 and 0, class 18 and 19, where the color is darker."
   ]
  },
  {
   "cell_type": "markdown",
   "metadata": {},
   "source": [
    "## Q2"
   ]
  },
  {
   "cell_type": "markdown",
   "metadata": {},
   "source": [
    "### (a)"
   ]
  },
  {
   "cell_type": "code",
   "execution_count": 17,
   "metadata": {
    "collapsed": true
   },
   "outputs": [],
   "source": [
    "def featureSizeAC(data, clf, num_run, **params):\n",
    "    \"\"\"\n",
    "    INPUT\n",
    "        data: Dataframe. Pre-processed data\n",
    "        clf: string. Name of the classifier from ['LR', 'SVM', 'NB']\n",
    "        params: string->real. Hyper-parameter of classifier. PS: c=1.0, r=0.01\n",
    "    \n",
    "    OUTPUT\n",
    "        train_mean_fs: list.\n",
    "        train_ci_fs: list.\n",
    "        test_mean_fs: list.\n",
    "        test_ci_fs: list.\n",
    "        \n",
    "    \"\"\"\n",
    "    feature_precentage = np.linspace(0.1, 1, 10, endpoint=True)\n",
    "    \n",
    "    ########### your code goes here ###########\n",
    "    num_f = len(data.columns)-2\n",
    "    target_df = data['target']\n",
    "    target = target_df.as_matrix()\n",
    "    \n",
    "    if clf =='LR':\n",
    "        clf = LogisticRegression(C=params['c'])\n",
    "    elif clf =='SVM':\n",
    "        clf = SVC(C=params['c'], probability= True)\n",
    "    elif clf =='NB':\n",
    "        clf = GaussianNB()\n",
    "\n",
    "    train_mean_fs = []\n",
    "    test_mean_fs = []\n",
    "    train_ci_fs = []\n",
    "    test_ci_fs = []\n",
    "    for j in feature_precentage:\n",
    "        features_df = data.iloc[:, 0:int(num_f*j)]\n",
    "        features = features_df.as_matrix()\n",
    "        train_scores = []\n",
    "        test_scores = []\n",
    "        for i in range(num_run):\n",
    "            features_train, features_test, target_train, target_test = train_test_split(features, target, test_size=0.3)\n",
    "            # train the features and target datasets and fit to a model\n",
    "            clfModel = clf.fit(features_train, target_train)\n",
    "            train_pred = clfModel.predict(features_train)\n",
    "            test_pred = clfModel.predict(features_test)\n",
    "            train_scores.append(accuracy_score(target_train, train_pred))\n",
    "            test_scores.append(accuracy_score(target_test, test_pred))\n",
    "        train_mean_fs.append(np.mean(train_scores))\n",
    "        test_mean_fs.append(np.mean(test_scores))\n",
    "        train_ci_fs.append(mean_confidence_interval(train_scores, confidence=0.95)[1])\n",
    "        test_ci_fs.append(mean_confidence_interval(test_scores, confidence=0.95)[1])\n",
    "    ###########         end         ###########\n",
    "    return train_mean_fs, train_ci_fs, test_mean_fs, test_ci_fs"
   ]
  },
  {
   "cell_type": "code",
   "execution_count": 18,
   "metadata": {
    "collapsed": true
   },
   "outputs": [],
   "source": [
    "train_mean_fs, train_ci_fs, test_mean_fs, test_ci_fs = featureSizeAC(data, 'LR', 5, c=0.01)"
   ]
  },
  {
   "cell_type": "markdown",
   "metadata": {},
   "source": [
    "### (b)"
   ]
  },
  {
   "cell_type": "code",
   "execution_count": 19,
   "metadata": {
    "collapsed": true
   },
   "outputs": [],
   "source": [
    "def featureSizePlot(feature_size, train_mean_fs, train_ci_fs, test_mean_fs, test_ci_fs):\n",
    "    # First illustrate basic pyplot interface, using defaults where possible.\n",
    "    plt.figure()\n",
    "    test_curve=plt.errorbar(feature_size, test_mean_fs, color=sns.xkcd_rgb[\"pale red\"], yerr=test_ci_fs)\n",
    "    train_curve=plt.errorbar(feature_size, train_mean_fs,color=sns.xkcd_rgb[\"denim blue\"], yerr=train_ci_fs)\n",
    "    plt.legend([test_curve, train_curve], ['Test', 'Train'])\n",
    "    plt.xlabel('Feature Percentage')\n",
    "    plt.ylabel('Accuracy')\n",
    "    plt.title(\"Accuracy vs Feature Size\")\n",
    "    plt.show()"
   ]
  },
  {
   "cell_type": "code",
   "execution_count": 20,
   "metadata": {},
   "outputs": [
    {
     "data": {
      "image/png": "[encoded data removed]",
      "text/plain": [
       "<matplotlib.figure.Figure at 0x237219b10f0>"
      ]
     },
     "metadata": {},
     "output_type": "display_data"
    }
   ],
   "source": [
    "featureSizePlot(np.linspace(0.1, 1, 10, endpoint=True),train_mean_fs, train_ci_fs, test_mean_fs, test_ci_fs )"
   ]
  },
  {
   "cell_type": "markdown",
   "metadata": {},
   "source": [
    "The plot shows that accuracy increases as feature size increases, and increases are small when feature size is more than 70%."
   ]
  },
  {
   "cell_type": "markdown",
   "metadata": {},
   "source": [
    "## Q3"
   ]
  },
  {
   "cell_type": "code",
   "execution_count": 33,
   "metadata": {
    "collapsed": true
   },
   "outputs": [],
   "source": [
    "def hyperParameterAC(data, clf, num_run):\n",
    "    \"\"\"\n",
    "    INPUT\n",
    "        data: Dataframe. Pre-processed data\n",
    "        clf: string. Name of the classifier from ['LR', 'SVM', 'NB']\n",
    "    \n",
    "    OUTPUT\n",
    "        test_mean_hp: list.  mean accuracy list of test\n",
    "        test_ci_hp: list. confidence interval list of test\n",
    "        train_mean_hp: list. mean accuracy list of train\n",
    "        train_ci_hp: list. confidence interval list of train\n",
    "        \n",
    "    NOTE \n",
    "        randomSplitCI could be the sub-route of this function\n",
    "    \"\"\"\n",
    "    params = np.logspace(-4, 4, num=9)\n",
    "    \n",
    "    ########### your code goes here ###########\n",
    "    num_f = len(data.columns)-2\n",
    "    features_df = data.iloc[:, 0:num_f]\n",
    "    features = features_df.as_matrix()\n",
    "    target_df = data['target']\n",
    "    target = target_df.as_matrix()\n",
    "    \n",
    "    train_mean_hp = []\n",
    "    test_mean_hp = []\n",
    "    train_ci_hp = []\n",
    "    test_ci_hp = []\n",
    "    if clf =='LR':\n",
    "        for j in params:\n",
    "            clf = LogisticRegression(C=j)\n",
    "            train_scores = []\n",
    "            test_scores = []\n",
    "            for i in range(num_run):\n",
    "                features_train, features_test, target_train, target_test = train_test_split(features, target, test_size=0.3)\n",
    "                # train the features and target datasets and fit to a model\n",
    "                clfModel = clf.fit(features_train, target_train)\n",
    "                train_pred = clfModel.predict(features_train)\n",
    "                test_pred = clfModel.predict(features_test)\n",
    "                train_scores.append(accuracy_score(target_train, train_pred))\n",
    "                test_scores.append(accuracy_score(target_test, test_pred))\n",
    "            train_mean_hp.append(np.mean(train_scores))\n",
    "            test_mean_hp.append(np.mean(test_scores))\n",
    "            train_ci_hp.append(mean_confidence_interval(train_scores, confidence=0.95)[1])\n",
    "            test_ci_hp.append(mean_confidence_interval(test_scores, confidence=0.95)[1])\n",
    "    elif clf == 'SVM':\n",
    "        for j in params:\n",
    "            clf = SVC(C=j, probability= True)\n",
    "            train_scores = []\n",
    "            test_scores = []\n",
    "            for i in range(num_run):\n",
    "                features_train, features_test, target_train, target_test = train_test_split(features, target, test_size=0.3)\n",
    "                # train the features and target datasets and fit to a model\n",
    "                clfModel = clf.fit(features_train, target_train)\n",
    "                train_pred = clfModel.predict(features_train)\n",
    "                test_pred = clfModel.predict(features_test)\n",
    "                train_scores.append(accuracy_score(target_train, train_pred))\n",
    "                test_scores.append(accuracy_score(target_test, test_pred))\n",
    "            train_mean_hp.append(np.mean(train_scores))\n",
    "            test_mean_hp.append(np.mean(test_scores))\n",
    "            train_ci_hp.append(mean_confidence_interval(train_scores, confidence=0.95)[1])\n",
    "            test_ci_hp.append(mean_confidence_interval(test_scores, confidence=0.95)[1])\n",
    "    ###########         end         ###########\n",
    "    return train_mean_hp, train_ci_hp, test_mean_hp, test_ci_hp"
   ]
  },
  {
   "cell_type": "code",
   "execution_count": 15,
   "metadata": {
    "collapsed": true
   },
   "outputs": [],
   "source": [
    "train_mean_hp, train_ci_hp, test_mean_hp, test_ci_hp = hyperParameterAC(data, 'LR', 3)"
   ]
  },
  {
   "cell_type": "markdown",
   "metadata": {},
   "source": [
    "### (b)"
   ]
  },
  {
   "cell_type": "code",
   "execution_count": 34,
   "metadata": {
    "collapsed": true
   },
   "outputs": [],
   "source": [
    "def hyperParameterPlot(params, train_mean_hp, train_ci_hp, test_mean_hp, test_ci_hp):\n",
    "    # First illustrate basic pyplot interface, using defaults where possible.\n",
    "    plt.figure()\n",
    "    test_curve=plt.errorbar(params, test_mean_hp, color=sns.xkcd_rgb[\"pale red\"], yerr=test_ci_hp)\n",
    "    train_curve=plt.errorbar(params, train_mean_hp,color=sns.xkcd_rgb[\"denim blue\"], yerr=train_ci_hp)\n",
    "    plt.legend([test_curve, train_curve], ['Test', 'Train'])\n",
    "    plt.xlabel('Parameter')\n",
    "    plt.xscale(\"log\")\n",
    "    plt.ylabel('Accuracy')\n",
    "    plt.title(\"Accuracy vs Parameters\")\n",
    "    plt.show()"
   ]
  },
  {
   "cell_type": "code",
   "execution_count": 17,
   "metadata": {},
   "outputs": [
    {
     "data": {
      "image/png": "[encoded data removed]",
      "text/plain": [
       "<matplotlib.figure.Figure at 0x1cc98d32160>"
      ]
     },
     "metadata": {},
     "output_type": "display_data"
    }
   ],
   "source": [
    "hyperParameterPlot(np.logspace(-4, 4, num=9),train_mean_hp, train_ci_hp, test_mean_hp, test_ci_hp )"
   ]
  },
  {
   "cell_type": "markdown",
   "metadata": {},
   "source": [
    "The plot shows that accuracy for training data increases as hyperparameter becomes lager, and accuracy for testing data is largest when hyperparameter=$10^{-2}$."
   ]
  },
  {
   "cell_type": "markdown",
   "metadata": {},
   "source": [
    "## Q4"
   ]
  },
  {
   "cell_type": "markdown",
   "metadata": {},
   "source": [
    "### (a)"
   ]
  },
  {
   "cell_type": "code",
   "execution_count": 22,
   "metadata": {
    "collapsed": true
   },
   "outputs": [],
   "source": [
    "def dataSizeAC(data, clf, num_run):\n",
    "    \"\"\"\n",
    "    INPUT\n",
    "        data: Dataframe. Pre-processed data\n",
    "        clf: string. Name of the classifier from ['LR', 'SVM', 'NB']\n",
    "        params: string->real. Hyper-parameter of classifier. PS: c=1.0, r=0.01\n",
    "    \n",
    "    OUTPUT\n",
    "        test_mean_ds: list.  mean accuracy list of test\n",
    "        test_ci_ds: list. confidence interval list of test\n",
    "        train_mean_ds: list. mean accuracy list of train\n",
    "        train_ci_ds: list. confidence interval list of train\n",
    "        \n",
    "        \n",
    "        \n",
    "    NOTE \n",
    "        randomSplitCI could be the sub-route of this function\n",
    "    \"\"\"\n",
    "    data_precentage = np.linspace(0.1, 1, 10, endpoint=True)\n",
    "    \n",
    "    ########### your code goes here ###########\n",
    "    num_f = len(data.columns)-2\n",
    "    features_df = data.iloc[:, 0:num_f]\n",
    "    features = features_df.as_matrix()\n",
    "    target_df = data['target']\n",
    "    target = target_df.as_matrix()\n",
    "    \n",
    "    if clf =='LR':\n",
    "        clf = LogisticRegression(C=0.01)\n",
    "    elif clf =='SVM':\n",
    "        clf = SVC(C=1.0, probability= True)\n",
    "    elif clf =='NB':\n",
    "        clf = GaussianNB()\n",
    "    \n",
    "    train_mean_ds = []\n",
    "    test_mean_ds = []\n",
    "    train_ci_ds = []\n",
    "    test_ci_ds = []\n",
    "    for j in data_precentage:\n",
    "        size = 0.7*j\n",
    "        train_scores = []\n",
    "        test_scores = []\n",
    "        for i in range(num_run):\n",
    "            #set training data to j percent of training data\n",
    "            features_train, features_test, target_train, target_test = train_test_split(features, target, train_size=size, test_size=0.3)\n",
    "            # train the features and target datasets and fit to a model\n",
    "            clfModel = clf.fit(features_train, target_train)\n",
    "            train_pred = clfModel.predict(features_train)\n",
    "            test_pred = clfModel.predict(features_test)\n",
    "            train_scores.append(accuracy_score(target_train, train_pred))\n",
    "            test_scores.append(accuracy_score(target_test, test_pred))\n",
    "        train_mean_ds.append(np.mean(train_scores))\n",
    "        test_mean_ds.append(np.mean(test_scores))\n",
    "        train_ci_ds.append(mean_confidence_interval(train_scores, confidence=0.95)[1])\n",
    "        test_ci_ds.append(mean_confidence_interval(test_scores, confidence=0.95)[1])\n",
    "    ###########         end         ###########\n",
    "    return train_mean_ds, train_ci_ds, test_mean_ds, test_ci_ds"
   ]
  },
  {
   "cell_type": "code",
   "execution_count": 23,
   "metadata": {
    "collapsed": true
   },
   "outputs": [],
   "source": [
    "train_mean_ds, train_ci_ds, test_mean_ds, test_ci_ds = dataSizeAC(data, 'LR', 3)"
   ]
  },
  {
   "cell_type": "markdown",
   "metadata": {},
   "source": [
    "### (b)"
   ]
  },
  {
   "cell_type": "code",
   "execution_count": 24,
   "metadata": {
    "collapsed": true
   },
   "outputs": [],
   "source": [
    "def dataSizePlot(datasize, train_mean_ds, train_ci_ds, test_mean_ds, test_ci_ds):\n",
    "    # First illustrate basic pyplot interface, using defaults where possible.\n",
    "    plt.figure()\n",
    "    test_curve=plt.errorbar(datasize, test_mean_ds, color=sns.xkcd_rgb[\"pale red\"], yerr=test_ci_ds)\n",
    "    train_curve=plt.errorbar(datasize, train_mean_ds,color=sns.xkcd_rgb[\"denim blue\"], yerr=train_ci_ds)\n",
    "    plt.legend([test_curve, train_curve], ['Test', 'Train'])\n",
    "    plt.xlabel('Data Percentage')\n",
    "    plt.ylabel('Accuracy')\n",
    "    plt.title(\"Accuracy vs Data Percentage\")\n",
    "    plt.show()"
   ]
  },
  {
   "cell_type": "code",
   "execution_count": 25,
   "metadata": {},
   "outputs": [
    {
     "data": {
      "image/png": "[encoded data removed]",
      "text/plain": [
       "<matplotlib.figure.Figure at 0x23721392fd0>"
      ]
     },
     "metadata": {},
     "output_type": "display_data"
    }
   ],
   "source": [
    "dataSizePlot(np.linspace(0.1, 1, 10, endpoint=True),train_mean_ds, train_ci_ds, test_mean_ds, test_ci_ds)"
   ]
  },
  {
   "cell_type": "markdown",
   "metadata": {},
   "source": [
    "The plot show that accuracy for testing data inceases when training data size is larger."
   ]
  },
  {
   "cell_type": "markdown",
   "metadata": {},
   "source": [
    "## Q5"
   ]
  },
  {
   "cell_type": "markdown",
   "metadata": {},
   "source": [
    "### (a)"
   ]
  },
  {
   "cell_type": "code",
   "execution_count": 26,
   "metadata": {},
   "outputs": [
    {
     "name": "stdout",
     "output_type": "stream",
     "text": [
      "processed 1 files\n",
      "processed 2001 files\n",
      "processed 4001 files\n",
      "processed 6001 files\n",
      "processed 8001 files\n",
      "processed 10001 files\n",
      "processed 12001 files\n",
      "processed 14001 files\n",
      "processed 16001 files\n",
      "processed 18001 files\n",
      "processed 1 files\n",
      "processed 2001 files\n",
      "processed 4001 files\n",
      "processed 6001 files\n",
      "processed 8001 files\n",
      "processed 10001 files\n",
      "processed 12001 files\n",
      "processed 14001 files\n",
      "processed 16001 files\n",
      "processed 18001 files\n",
      "processed 1 files\n",
      "processed 2001 files\n",
      "processed 4001 files\n",
      "processed 6001 files\n",
      "processed 8001 files\n",
      "processed 10001 files\n",
      "processed 12001 files\n",
      "processed 14001 files\n",
      "processed 16001 files\n",
      "processed 18001 files\n",
      "processed 1 files\n",
      "processed 2001 files\n",
      "processed 4001 files\n",
      "processed 6001 files\n",
      "processed 8001 files\n",
      "processed 10001 files\n",
      "processed 12001 files\n",
      "processed 14001 files\n",
      "processed 16001 files\n",
      "processed 18001 files\n"
     ]
    }
   ],
   "source": [
    "data1 = dataPreprocessor(k=500, fs='tf', encode='tf', directorydf=directorydf, size=None)\n",
    "data2 = dataPreprocessor(k=500, fs='tf', encode='boolean', directorydf=directorydf, size=None)"
   ]
  },
  {
   "cell_type": "code",
   "execution_count": 27,
   "metadata": {},
   "outputs": [
    {
     "data": {
      "text/html": [
       "<div>\n",
       "<style>\n",
       "    .dataframe thead tr:only-child th {\n",
       "        text-align: right;\n",
       "    }\n",
       "\n",
       "    .dataframe thead th {\n",
       "        text-align: left;\n",
       "    }\n",
       "\n",
       "    .dataframe tbody tr th {\n",
       "        vertical-align: top;\n",
       "    }\n",
       "</style>\n",
       "<table border=\"1\" class=\"dataframe\">\n",
       "  <thead>\n",
       "    <tr style=\"text-align: right;\">\n",
       "      <th></th>\n",
       "      <th>edu</th>\n",
       "      <th>cmu</th>\n",
       "      <th>com</th>\n",
       "      <th>news</th>\n",
       "      <th>srv</th>\n",
       "      <th>cantaloupe</th>\n",
       "      <th>net</th>\n",
       "      <th>line</th>\n",
       "      <th>message</th>\n",
       "      <th>subject</th>\n",
       "      <th>...</th>\n",
       "      <th>understand</th>\n",
       "      <th>friend</th>\n",
       "      <th>memory</th>\n",
       "      <th>often</th>\n",
       "      <th>city</th>\n",
       "      <th>rule</th>\n",
       "      <th>pay</th>\n",
       "      <th>important</th>\n",
       "      <th>target</th>\n",
       "      <th>label</th>\n",
       "    </tr>\n",
       "  </thead>\n",
       "  <tbody>\n",
       "    <tr>\n",
       "      <th>0</th>\n",
       "      <td>10</td>\n",
       "      <td>5</td>\n",
       "      <td>1</td>\n",
       "      <td>4</td>\n",
       "      <td>3</td>\n",
       "      <td>2</td>\n",
       "      <td>2</td>\n",
       "      <td>2</td>\n",
       "      <td>1</td>\n",
       "      <td>2</td>\n",
       "      <td>...</td>\n",
       "      <td>0</td>\n",
       "      <td>1</td>\n",
       "      <td>0</td>\n",
       "      <td>3</td>\n",
       "      <td>0</td>\n",
       "      <td>0</td>\n",
       "      <td>0</td>\n",
       "      <td>0</td>\n",
       "      <td>0</td>\n",
       "      <td>20_newsgroups\\alt.atheism\\49960</td>\n",
       "    </tr>\n",
       "  </tbody>\n",
       "</table>\n",
       "<p>1 rows × 502 columns</p>\n",
       "</div>"
      ],
      "text/plain": [
       "   edu  cmu  com  news  srv  cantaloupe  net  line  message  subject  \\\n",
       "0   10    5    1     4    3           2    2     2        1        2   \n",
       "\n",
       "                ...                 understand  friend  memory  often  city  \\\n",
       "0               ...                          0       1       0      3     0   \n",
       "\n",
       "   rule  pay  important  target                            label  \n",
       "0     0    0          0       0  20_newsgroups\\alt.atheism\\49960  \n",
       "\n",
       "[1 rows x 502 columns]"
      ]
     },
     "execution_count": 27,
     "metadata": {},
     "output_type": "execute_result"
    }
   ],
   "source": [
    "data1.head(n=1)"
   ]
  },
  {
   "cell_type": "markdown",
   "metadata": {},
   "source": [
    "binary encodinng:"
   ]
  },
  {
   "cell_type": "code",
   "execution_count": 29,
   "metadata": {},
   "outputs": [
    {
     "data": {
      "text/html": [
       "<div>\n",
       "<style>\n",
       "    .dataframe thead tr:only-child th {\n",
       "        text-align: right;\n",
       "    }\n",
       "\n",
       "    .dataframe thead th {\n",
       "        text-align: left;\n",
       "    }\n",
       "\n",
       "    .dataframe tbody tr th {\n",
       "        vertical-align: top;\n",
       "    }\n",
       "</style>\n",
       "<table border=\"1\" class=\"dataframe\">\n",
       "  <thead>\n",
       "    <tr style=\"text-align: right;\">\n",
       "      <th></th>\n",
       "      <th>edu</th>\n",
       "      <th>cmu</th>\n",
       "      <th>com</th>\n",
       "      <th>news</th>\n",
       "      <th>srv</th>\n",
       "      <th>cantaloupe</th>\n",
       "      <th>net</th>\n",
       "      <th>line</th>\n",
       "      <th>message</th>\n",
       "      <th>subject</th>\n",
       "      <th>...</th>\n",
       "      <th>understand</th>\n",
       "      <th>friend</th>\n",
       "      <th>memory</th>\n",
       "      <th>often</th>\n",
       "      <th>city</th>\n",
       "      <th>rule</th>\n",
       "      <th>pay</th>\n",
       "      <th>important</th>\n",
       "      <th>target</th>\n",
       "      <th>label</th>\n",
       "    </tr>\n",
       "  </thead>\n",
       "  <tbody>\n",
       "    <tr>\n",
       "      <th>0</th>\n",
       "      <td>1</td>\n",
       "      <td>1</td>\n",
       "      <td>1</td>\n",
       "      <td>1</td>\n",
       "      <td>1</td>\n",
       "      <td>1</td>\n",
       "      <td>1</td>\n",
       "      <td>1</td>\n",
       "      <td>1</td>\n",
       "      <td>1</td>\n",
       "      <td>...</td>\n",
       "      <td>0</td>\n",
       "      <td>1</td>\n",
       "      <td>0</td>\n",
       "      <td>1</td>\n",
       "      <td>0</td>\n",
       "      <td>0</td>\n",
       "      <td>0</td>\n",
       "      <td>0</td>\n",
       "      <td>0</td>\n",
       "      <td>20_newsgroups\\alt.atheism\\49960</td>\n",
       "    </tr>\n",
       "  </tbody>\n",
       "</table>\n",
       "<p>1 rows × 502 columns</p>\n",
       "</div>"
      ],
      "text/plain": [
       "   edu  cmu  com  news  srv  cantaloupe  net  line  message  subject  \\\n",
       "0    1    1    1     1    1           1    1     1        1        1   \n",
       "\n",
       "                ...                 understand  friend  memory  often  city  \\\n",
       "0               ...                          0       1       0      1     0   \n",
       "\n",
       "   rule  pay  important  target                            label  \n",
       "0     0    0          0       0  20_newsgroups\\alt.atheism\\49960  \n",
       "\n",
       "[1 rows x 502 columns]"
      ]
     },
     "execution_count": 29,
     "metadata": {},
     "output_type": "execute_result"
    }
   ],
   "source": [
    "data2.head(n=1)"
   ]
  },
  {
   "cell_type": "markdown",
   "metadata": {},
   "source": [
    "### (b)"
   ]
  },
  {
   "cell_type": "markdown",
   "metadata": {},
   "source": [
    "You should be able to get this answer easily by running dataPreprocessor fuction and randomSplitCI function"
   ]
  },
  {
   "cell_type": "code",
   "execution_count": 28,
   "metadata": {
    "collapsed": true
   },
   "outputs": [],
   "source": [
    "train_scores1,test_scores1,train_mean1,test_mean1,train_ci1,test_ci1 = randomSplitCI(data1, 'LR', 10, c=0.01)\n",
    "train_scores2,test_scores2,train_mean2,test_mean2,train_ci2,test_ci2 = randomSplitCI(data2, 'LR', 10, c=0.01)"
   ]
  },
  {
   "cell_type": "code",
   "execution_count": 30,
   "metadata": {},
   "outputs": [
    {
     "name": "stdout",
     "output_type": "stream",
     "text": [
      "TF Train    \n",
      "Confidence Interval: 0.9521623286345082, 0.9533031282491096\n",
      "\n",
      "TF Test    \n",
      "Confidence Interval: 0.9363829288872169, 0.9389504044461162\n",
      "\n",
      "Binary Train    \n",
      "Confidence Interval: 0.9642572753522508, 0.9650990152814564\n",
      "\n",
      "Binary Test    \n",
      "Confidence Interval: 0.9519096879110349, 0.9541236454222983\n",
      "\n"
     ]
    }
   ],
   "source": [
    "print(\"TF Train\\\n",
    "    \\nConfidence Interval: {0}, {1}\\n\".format(train_mean1-train_ci1, train_mean1+train_ci1)\n",
    "     )\n",
    "print(\"TF Test\\\n",
    "    \\nConfidence Interval: {0}, {1}\\n\".format(test_mean1-test_ci1, test_mean1+test_ci1)\n",
    "     )\n",
    "print(\"Binary Train\\\n",
    "    \\nConfidence Interval: {0}, {1}\\n\".format(train_mean2-train_ci2, train_mean2+train_ci2)\n",
    "     )\n",
    "print(\"Binary Test\\\n",
    "    \\nConfidence Interval: {0}, {1}\\n\".format(test_mean2-test_ci2, test_mean2+test_ci2)\n",
    "     )"
   ]
  },
  {
   "cell_type": "markdown",
   "metadata": {},
   "source": [
    "Confidence intervals of both training and testing data shows that binary encoding method performs\n",
    "better. The reason may be that for binary encoding, features are on the same scale, but for term frequency, the data can be wildly different so it does not present data for different features or different documents equally."
   ]
  },
  {
   "cell_type": "markdown",
   "metadata": {},
   "source": [
    "## Q6"
   ]
  },
  {
   "cell_type": "markdown",
   "metadata": {},
   "source": [
    "### (a)"
   ]
  },
  {
   "cell_type": "code",
   "execution_count": 35,
   "metadata": {
    "collapsed": true
   },
   "outputs": [],
   "source": [
    "train_scores1,test_scores1,train_mean1,test_mean1,train_ci1,test_ci1 = randomSplitCI(data2, 'LR', 10, c=0.01)\n",
    "train_scores2,test_scores2,train_mean2,test_mean2,train_ci2,test_ci2 = randomSplitCI(data2, 'NB', 10, c=0.01)"
   ]
  },
  {
   "cell_type": "code",
   "execution_count": 36,
   "metadata": {},
   "outputs": [
    {
     "name": "stdout",
     "output_type": "stream",
     "text": [
      "Logistic Regression Train    \n",
      "Confidence Interval: 0.9634550812105811, 0.9643580215971632\n",
      "\n",
      "Logistic Regression    \n",
      "Confidence Interval: 0.9538449766584968, 0.95622169000817\n",
      "\n",
      "Naive Bayes Train    \n",
      "Confidence Interval: 0.9305058954416688, 0.9396662843111353\n",
      "\n",
      "Naive Bayes Test    \n",
      "Confidence Interval: 0.9216260747337589, 0.9301405919329079\n",
      "\n"
     ]
    }
   ],
   "source": [
    "print(\"Logistic Regression Train\\\n",
    "    \\nConfidence Interval: {0}, {1}\\n\".format(train_mean1-train_ci1, train_mean1+train_ci1)\n",
    "     )\n",
    "print(\"Logistic Regression\\\n",
    "    \\nConfidence Interval: {0}, {1}\\n\".format(test_mean1-test_ci1, test_mean1+test_ci1)\n",
    "     )\n",
    "print(\"Naive Bayes Train\\\n",
    "    \\nConfidence Interval: {0}, {1}\\n\".format(train_mean2-train_ci2, train_mean2+train_ci2)\n",
    "     )\n",
    "print(\"Naive Bayes Test\\\n",
    "    \\nConfidence Interval: {0}, {1}\\n\".format(test_mean2-test_ci2, test_mean2+test_ci2)\n",
    "     )"
   ]
  },
  {
   "cell_type": "markdown",
   "metadata": {},
   "source": [
    "Confidence intervals of both training and testing data shows that logistic regression performs better. The reason may ne that Naive Bayes assumes that the features are conditionally independent and it does not take intercorrelations among features into account."
   ]
  },
  {
   "cell_type": "markdown",
   "metadata": {},
   "source": [
    "## binary logistic regression to classify sci.space"
   ]
  },
  {
   "cell_type": "markdown",
   "metadata": {},
   "source": [
    "## Q1 (binary)"
   ]
  },
  {
   "cell_type": "markdown",
   "metadata": {},
   "source": [
    "Same as Q1 above,\n",
    "\n",
    "(i) The text is processed by converting words to lowercase, filtering stopwords, removing numbers 1-9, and keeping only words with more than 2 letters.\n",
    "\n",
    "(ii) Features are ranked by term frequency since words with higher frequency may be more important.\n",
    "\n",
    "(iii) The top 500 most common features are selected. Larger amount of features may contain more information but too many features would take a long time to compute."
   ]
  },
  {
   "cell_type": "code",
   "execution_count": 21,
   "metadata": {
    "collapsed": true
   },
   "outputs": [],
   "source": [
    "data_bi = data.copy()\n",
    "data_bi.loc[data_bi.target != 14, 'target'] = 0\n",
    "data_bi.loc[data_bi.target == 14, 'target'] = 1"
   ]
  },
  {
   "cell_type": "code",
   "execution_count": 27,
   "metadata": {},
   "outputs": [
    {
     "data": {
      "text/html": [
       "<div>\n",
       "<style>\n",
       "    .dataframe thead tr:only-child th {\n",
       "        text-align: right;\n",
       "    }\n",
       "\n",
       "    .dataframe thead th {\n",
       "        text-align: left;\n",
       "    }\n",
       "\n",
       "    .dataframe tbody tr th {\n",
       "        vertical-align: top;\n",
       "    }\n",
       "</style>\n",
       "<table border=\"1\" class=\"dataframe\">\n",
       "  <thead>\n",
       "    <tr style=\"text-align: right;\">\n",
       "      <th></th>\n",
       "      <th>edu</th>\n",
       "      <th>cmu</th>\n",
       "      <th>com</th>\n",
       "      <th>news</th>\n",
       "      <th>srv</th>\n",
       "      <th>cantaloupe</th>\n",
       "      <th>net</th>\n",
       "      <th>line</th>\n",
       "      <th>message</th>\n",
       "      <th>subject</th>\n",
       "      <th>...</th>\n",
       "      <th>friend</th>\n",
       "      <th>everything</th>\n",
       "      <th>memory</th>\n",
       "      <th>city</th>\n",
       "      <th>often</th>\n",
       "      <th>rule</th>\n",
       "      <th>pay</th>\n",
       "      <th>important</th>\n",
       "      <th>target</th>\n",
       "      <th>label</th>\n",
       "    </tr>\n",
       "  </thead>\n",
       "  <tbody>\n",
       "    <tr>\n",
       "      <th>0</th>\n",
       "      <td>10</td>\n",
       "      <td>5</td>\n",
       "      <td>1</td>\n",
       "      <td>4</td>\n",
       "      <td>3</td>\n",
       "      <td>2</td>\n",
       "      <td>2</td>\n",
       "      <td>2</td>\n",
       "      <td>1</td>\n",
       "      <td>2</td>\n",
       "      <td>...</td>\n",
       "      <td>1</td>\n",
       "      <td>0</td>\n",
       "      <td>0</td>\n",
       "      <td>0</td>\n",
       "      <td>3</td>\n",
       "      <td>0</td>\n",
       "      <td>0</td>\n",
       "      <td>0</td>\n",
       "      <td>0</td>\n",
       "      <td>20_newsgroups\\alt.atheism\\49960</td>\n",
       "    </tr>\n",
       "    <tr>\n",
       "      <th>1</th>\n",
       "      <td>5</td>\n",
       "      <td>4</td>\n",
       "      <td>1</td>\n",
       "      <td>3</td>\n",
       "      <td>3</td>\n",
       "      <td>2</td>\n",
       "      <td>1</td>\n",
       "      <td>1</td>\n",
       "      <td>4</td>\n",
       "      <td>3</td>\n",
       "      <td>...</td>\n",
       "      <td>5</td>\n",
       "      <td>2</td>\n",
       "      <td>0</td>\n",
       "      <td>0</td>\n",
       "      <td>5</td>\n",
       "      <td>5</td>\n",
       "      <td>0</td>\n",
       "      <td>4</td>\n",
       "      <td>0</td>\n",
       "      <td>20_newsgroups\\alt.atheism\\51060</td>\n",
       "    </tr>\n",
       "    <tr>\n",
       "      <th>2</th>\n",
       "      <td>7</td>\n",
       "      <td>3</td>\n",
       "      <td>3</td>\n",
       "      <td>2</td>\n",
       "      <td>2</td>\n",
       "      <td>1</td>\n",
       "      <td>1</td>\n",
       "      <td>1</td>\n",
       "      <td>1</td>\n",
       "      <td>1</td>\n",
       "      <td>...</td>\n",
       "      <td>0</td>\n",
       "      <td>0</td>\n",
       "      <td>0</td>\n",
       "      <td>0</td>\n",
       "      <td>0</td>\n",
       "      <td>0</td>\n",
       "      <td>0</td>\n",
       "      <td>0</td>\n",
       "      <td>0</td>\n",
       "      <td>20_newsgroups\\alt.atheism\\51119</td>\n",
       "    </tr>\n",
       "    <tr>\n",
       "      <th>3</th>\n",
       "      <td>6</td>\n",
       "      <td>4</td>\n",
       "      <td>1</td>\n",
       "      <td>1</td>\n",
       "      <td>3</td>\n",
       "      <td>2</td>\n",
       "      <td>1</td>\n",
       "      <td>1</td>\n",
       "      <td>1</td>\n",
       "      <td>1</td>\n",
       "      <td>...</td>\n",
       "      <td>0</td>\n",
       "      <td>0</td>\n",
       "      <td>0</td>\n",
       "      <td>0</td>\n",
       "      <td>0</td>\n",
       "      <td>0</td>\n",
       "      <td>0</td>\n",
       "      <td>0</td>\n",
       "      <td>0</td>\n",
       "      <td>20_newsgroups\\alt.atheism\\51120</td>\n",
       "    </tr>\n",
       "    <tr>\n",
       "      <th>4</th>\n",
       "      <td>4</td>\n",
       "      <td>4</td>\n",
       "      <td>10</td>\n",
       "      <td>0</td>\n",
       "      <td>3</td>\n",
       "      <td>2</td>\n",
       "      <td>1</td>\n",
       "      <td>1</td>\n",
       "      <td>1</td>\n",
       "      <td>1</td>\n",
       "      <td>...</td>\n",
       "      <td>0</td>\n",
       "      <td>0</td>\n",
       "      <td>0</td>\n",
       "      <td>0</td>\n",
       "      <td>0</td>\n",
       "      <td>0</td>\n",
       "      <td>0</td>\n",
       "      <td>0</td>\n",
       "      <td>0</td>\n",
       "      <td>20_newsgroups\\alt.atheism\\51121</td>\n",
       "    </tr>\n",
       "  </tbody>\n",
       "</table>\n",
       "<p>5 rows × 502 columns</p>\n",
       "</div>"
      ],
      "text/plain": [
       "   edu  cmu  com  news  srv  cantaloupe  net  line  message  subject  \\\n",
       "0   10    5    1     4    3           2    2     2        1        2   \n",
       "1    5    4    1     3    3           2    1     1        4        3   \n",
       "2    7    3    3     2    2           1    1     1        1        1   \n",
       "3    6    4    1     1    3           2    1     1        1        1   \n",
       "4    4    4   10     0    3           2    1     1        1        1   \n",
       "\n",
       "                ...                 friend  everything  memory  city  often  \\\n",
       "0               ...                      1           0       0     0      3   \n",
       "1               ...                      5           2       0     0      5   \n",
       "2               ...                      0           0       0     0      0   \n",
       "3               ...                      0           0       0     0      0   \n",
       "4               ...                      0           0       0     0      0   \n",
       "\n",
       "   rule  pay  important  target                            label  \n",
       "0     0    0          0       0  20_newsgroups\\alt.atheism\\49960  \n",
       "1     5    0          4       0  20_newsgroups\\alt.atheism\\51060  \n",
       "2     0    0          0       0  20_newsgroups\\alt.atheism\\51119  \n",
       "3     0    0          0       0  20_newsgroups\\alt.atheism\\51120  \n",
       "4     0    0          0       0  20_newsgroups\\alt.atheism\\51121  \n",
       "\n",
       "[5 rows x 502 columns]"
      ]
     },
     "execution_count": 27,
     "metadata": {},
     "output_type": "execute_result"
    }
   ],
   "source": [
    "data_bi.head()"
   ]
  },
  {
   "cell_type": "code",
   "execution_count": 28,
   "metadata": {},
   "outputs": [
    {
     "name": "stdout",
     "output_type": "stream",
     "text": [
      "Train    \n",
      "Result of trails:[0.99985711223833673, 0.99978566835750515, 0.99985711223833673, 0.99992855611916842, 1.0, 0.99992855611916842, 0.99978566835750515, 0.99985711223833673, 0.99978566835750515, 0.99978566835750515]     \n",
      "Average Accuracy: 0.9998571122383367     \n",
      "Confidence Interval: 4.0948098296702085e-05\n",
      "\n",
      "Test    \n",
      "Result of trails:[0.99750000000000005, 0.997, 0.99733333333333329, 0.99716666666666665, 0.99650000000000005, 0.9976666666666667, 0.99750000000000005, 0.99733333333333329, 0.99750000000000005, 0.99833333333333329]     \n",
      "Average Accuracy: 0.9973833333333333     \n",
      "Confidence Interval: 0.00025649864884557717\n"
     ]
    }
   ],
   "source": [
    "train_scores,test_scores,train_mean,test_mean,train_ci,test_ci = randomSplitCI(data_bi, 'LR', 10, c=1.0)\n",
    "print(\"Train\\\n",
    "    \\nResult of trails:{0} \\\n",
    "    \\nAverage Accuracy: {1} \\\n",
    "    \\nConfidence Interval: {2}\\n\".format(train_scores, train_mean, train_ci)\n",
    "     )\n",
    "print(\"Test\\\n",
    "    \\nResult of trails:{0} \\\n",
    "    \\nAverage Accuracy: {1} \\\n",
    "    \\nConfidence Interval: {2}\".format(test_scores, test_mean, test_ci)\n",
    "     )"
   ]
  },
  {
   "cell_type": "markdown",
   "metadata": {},
   "source": [
    "The average shows the average accuracy score of 10 trials. The confidence interval shows the true mean accuracy falls between two values (e.g. 0.997$\\pm$0.00026 for test accuracy). They are more informative than a single trial because accuracy scores can be different due to selection of different training data."
   ]
  },
  {
   "cell_type": "markdown",
   "metadata": {},
   "source": [
    "## Q2 (binary)"
   ]
  },
  {
   "cell_type": "code",
   "execution_count": 38,
   "metadata": {
    "collapsed": true
   },
   "outputs": [],
   "source": [
    "train_mean_fs, train_ci_fs, test_mean_fs, test_ci_fs = featureSizeAC(data_bi, 'LR', 10, c=1.0)"
   ]
  },
  {
   "cell_type": "code",
   "execution_count": 39,
   "metadata": {},
   "outputs": [
    {
     "data": {
      "image/png": "[encoded data removed]",
      "text/plain": [
       "<matplotlib.figure.Figure at 0x1928e001f98>"
      ]
     },
     "metadata": {},
     "output_type": "display_data"
    }
   ],
   "source": [
    "featureSizePlot(np.linspace(0.1, 1, 10, endpoint=True),train_mean_fs, train_ci_fs, test_mean_fs, test_ci_fs )"
   ]
  },
  {
   "cell_type": "markdown",
   "metadata": {},
   "source": [
    "The plot shows that accuracy increases as feature size increases, and increases are small when feature size is more than 20%."
   ]
  },
  {
   "cell_type": "markdown",
   "metadata": {},
   "source": [
    "## Q3 (binary)"
   ]
  },
  {
   "cell_type": "code",
   "execution_count": 40,
   "metadata": {
    "collapsed": true
   },
   "outputs": [],
   "source": [
    "train_mean_hp, train_ci_hp, test_mean_hp, test_ci_hp = hyperParameterAC(data_bi, 'LR', 3)"
   ]
  },
  {
   "cell_type": "code",
   "execution_count": 41,
   "metadata": {},
   "outputs": [
    {
     "data": {
      "image/png": "[encoded data removed]",
      "text/plain": [
       "<matplotlib.figure.Figure at 0x1928da224e0>"
      ]
     },
     "metadata": {},
     "output_type": "display_data"
    }
   ],
   "source": [
    "hyperParameterPlot(np.logspace(-4, 4, num=9),train_mean_hp, train_ci_hp, test_mean_hp, test_ci_hp )"
   ]
  },
  {
   "cell_type": "markdown",
   "metadata": {},
   "source": [
    "The plot shows that accuracy for both training and testing data increases as hyperparameter becomes lager, and there is little increase when hyperparameter is larger than 1.0."
   ]
  },
  {
   "cell_type": "markdown",
   "metadata": {},
   "source": [
    "## Q4 (binary)"
   ]
  },
  {
   "cell_type": "code",
   "execution_count": 42,
   "metadata": {
    "collapsed": true
   },
   "outputs": [],
   "source": [
    "train_mean_ds, train_ci_ds, test_mean_ds, test_ci_ds = dataSizeAC(data_bi, 'LR', 3)"
   ]
  },
  {
   "cell_type": "code",
   "execution_count": 43,
   "metadata": {},
   "outputs": [
    {
     "data": {
      "image/png": "[encoded data removed]",
      "text/plain": [
       "<matplotlib.figure.Figure at 0x19288f07c50>"
      ]
     },
     "metadata": {},
     "output_type": "display_data"
    }
   ],
   "source": [
    "dataSizePlot(np.linspace(0.1, 1, 10, endpoint=True),train_mean_ds, train_ci_ds, test_mean_ds, test_ci_ds)"
   ]
  },
  {
   "cell_type": "markdown",
   "metadata": {},
   "source": [
    "The plot show that accuracy for testing data inceases when training data size is larger."
   ]
  },
  {
   "cell_type": "markdown",
   "metadata": {},
   "source": [
    "## Q5 (binary)"
   ]
  },
  {
   "cell_type": "code",
   "execution_count": 65,
   "metadata": {
    "collapsed": true
   },
   "outputs": [],
   "source": [
    "data_bi2 = data2.copy()\n",
    "data_bi2.loc[data_bi2.target != 14, 'target'] = 0\n",
    "data_bi2.loc[data_bi2.target == 14, 'target'] = 1"
   ]
  },
  {
   "cell_type": "code",
   "execution_count": 45,
   "metadata": {},
   "outputs": [
    {
     "data": {
      "text/html": [
       "<div>\n",
       "<style>\n",
       "    .dataframe thead tr:only-child th {\n",
       "        text-align: right;\n",
       "    }\n",
       "\n",
       "    .dataframe thead th {\n",
       "        text-align: left;\n",
       "    }\n",
       "\n",
       "    .dataframe tbody tr th {\n",
       "        vertical-align: top;\n",
       "    }\n",
       "</style>\n",
       "<table border=\"1\" class=\"dataframe\">\n",
       "  <thead>\n",
       "    <tr style=\"text-align: right;\">\n",
       "      <th></th>\n",
       "      <th>edu</th>\n",
       "      <th>cmu</th>\n",
       "      <th>com</th>\n",
       "      <th>news</th>\n",
       "      <th>srv</th>\n",
       "      <th>cantaloupe</th>\n",
       "      <th>net</th>\n",
       "      <th>line</th>\n",
       "      <th>message</th>\n",
       "      <th>subject</th>\n",
       "      <th>...</th>\n",
       "      <th>friend</th>\n",
       "      <th>everything</th>\n",
       "      <th>memory</th>\n",
       "      <th>city</th>\n",
       "      <th>often</th>\n",
       "      <th>rule</th>\n",
       "      <th>pay</th>\n",
       "      <th>important</th>\n",
       "      <th>target</th>\n",
       "      <th>label</th>\n",
       "    </tr>\n",
       "  </thead>\n",
       "  <tbody>\n",
       "    <tr>\n",
       "      <th>0</th>\n",
       "      <td>10</td>\n",
       "      <td>5</td>\n",
       "      <td>1</td>\n",
       "      <td>4</td>\n",
       "      <td>3</td>\n",
       "      <td>2</td>\n",
       "      <td>2</td>\n",
       "      <td>2</td>\n",
       "      <td>1</td>\n",
       "      <td>2</td>\n",
       "      <td>...</td>\n",
       "      <td>1</td>\n",
       "      <td>0</td>\n",
       "      <td>0</td>\n",
       "      <td>0</td>\n",
       "      <td>3</td>\n",
       "      <td>0</td>\n",
       "      <td>0</td>\n",
       "      <td>0</td>\n",
       "      <td>0</td>\n",
       "      <td>20_newsgroups\\alt.atheism\\49960</td>\n",
       "    </tr>\n",
       "  </tbody>\n",
       "</table>\n",
       "<p>1 rows × 502 columns</p>\n",
       "</div>"
      ],
      "text/plain": [
       "   edu  cmu  com  news  srv  cantaloupe  net  line  message  subject  \\\n",
       "0   10    5    1     4    3           2    2     2        1        2   \n",
       "\n",
       "                ...                 friend  everything  memory  city  often  \\\n",
       "0               ...                      1           0       0     0      3   \n",
       "\n",
       "   rule  pay  important  target                            label  \n",
       "0     0    0          0       0  20_newsgroups\\alt.atheism\\49960  \n",
       "\n",
       "[1 rows x 502 columns]"
      ]
     },
     "execution_count": 45,
     "metadata": {},
     "output_type": "execute_result"
    }
   ],
   "source": [
    "data_bi.head(n=1)"
   ]
  },
  {
   "cell_type": "markdown",
   "metadata": {},
   "source": [
    "binary encodinng:"
   ]
  },
  {
   "cell_type": "code",
   "execution_count": 46,
   "metadata": {},
   "outputs": [
    {
     "data": {
      "text/html": [
       "<div>\n",
       "<style>\n",
       "    .dataframe thead tr:only-child th {\n",
       "        text-align: right;\n",
       "    }\n",
       "\n",
       "    .dataframe thead th {\n",
       "        text-align: left;\n",
       "    }\n",
       "\n",
       "    .dataframe tbody tr th {\n",
       "        vertical-align: top;\n",
       "    }\n",
       "</style>\n",
       "<table border=\"1\" class=\"dataframe\">\n",
       "  <thead>\n",
       "    <tr style=\"text-align: right;\">\n",
       "      <th></th>\n",
       "      <th>edu</th>\n",
       "      <th>cmu</th>\n",
       "      <th>com</th>\n",
       "      <th>news</th>\n",
       "      <th>srv</th>\n",
       "      <th>cantaloupe</th>\n",
       "      <th>net</th>\n",
       "      <th>line</th>\n",
       "      <th>message</th>\n",
       "      <th>subject</th>\n",
       "      <th>...</th>\n",
       "      <th>friend</th>\n",
       "      <th>everything</th>\n",
       "      <th>memory</th>\n",
       "      <th>city</th>\n",
       "      <th>often</th>\n",
       "      <th>rule</th>\n",
       "      <th>pay</th>\n",
       "      <th>important</th>\n",
       "      <th>target</th>\n",
       "      <th>label</th>\n",
       "    </tr>\n",
       "  </thead>\n",
       "  <tbody>\n",
       "    <tr>\n",
       "      <th>0</th>\n",
       "      <td>1</td>\n",
       "      <td>1</td>\n",
       "      <td>1</td>\n",
       "      <td>1</td>\n",
       "      <td>1</td>\n",
       "      <td>1</td>\n",
       "      <td>1</td>\n",
       "      <td>1</td>\n",
       "      <td>1</td>\n",
       "      <td>1</td>\n",
       "      <td>...</td>\n",
       "      <td>1</td>\n",
       "      <td>0</td>\n",
       "      <td>0</td>\n",
       "      <td>0</td>\n",
       "      <td>1</td>\n",
       "      <td>0</td>\n",
       "      <td>0</td>\n",
       "      <td>0</td>\n",
       "      <td>0</td>\n",
       "      <td>20_newsgroups\\alt.atheism\\49960</td>\n",
       "    </tr>\n",
       "  </tbody>\n",
       "</table>\n",
       "<p>1 rows × 502 columns</p>\n",
       "</div>"
      ],
      "text/plain": [
       "   edu  cmu  com  news  srv  cantaloupe  net  line  message  subject  \\\n",
       "0    1    1    1     1    1           1    1     1        1        1   \n",
       "\n",
       "                ...                 friend  everything  memory  city  often  \\\n",
       "0               ...                      1           0       0     0      1   \n",
       "\n",
       "   rule  pay  important  target                            label  \n",
       "0     0    0          0       0  20_newsgroups\\alt.atheism\\49960  \n",
       "\n",
       "[1 rows x 502 columns]"
      ]
     },
     "execution_count": 46,
     "metadata": {},
     "output_type": "execute_result"
    }
   ],
   "source": [
    "data_bi2.head(n=1)"
   ]
  },
  {
   "cell_type": "code",
   "execution_count": 67,
   "metadata": {
    "collapsed": true
   },
   "outputs": [],
   "source": [
    "train_scores1,test_scores1,train_mean1,test_mean1,train_ci1,test_ci1 = randomSplitCI(data_bi, 'LR', 8, c=1.0)\n",
    "train_scores2,test_scores2,train_mean2,test_mean2,train_ci2,test_ci2 = randomSplitCI(data_bi2, 'LR', 8, c=1.0)"
   ]
  },
  {
   "cell_type": "code",
   "execution_count": 68,
   "metadata": {},
   "outputs": [
    {
     "name": "stdout",
     "output_type": "stream",
     "text": [
      "TF Train    \n",
      "Confidence Interval: 0.9997781351441668, 0.999882506421883\n",
      "\n",
      "TF Test    \n",
      "Confidence Interval: 0.9968543283282731, 0.9975623383383934\n",
      "\n",
      "Binary Train    \n",
      "Confidence Interval: 0.9998360271244671, 0.9999139192926223\n",
      "\n",
      "Binary Test    \n",
      "Confidence Interval: 0.9986389035381992, 0.9990694297951342\n",
      "\n"
     ]
    }
   ],
   "source": [
    "print(\"TF Train\\\n",
    "    \\nConfidence Interval: {0}, {1}\\n\".format(train_mean1-train_ci1, train_mean1+train_ci1)\n",
    "     )\n",
    "print(\"TF Test\\\n",
    "    \\nConfidence Interval: {0}, {1}\\n\".format(test_mean1-test_ci1, test_mean1+test_ci1)\n",
    "     )\n",
    "print(\"Binary Train\\\n",
    "    \\nConfidence Interval: {0}, {1}\\n\".format(train_mean2-train_ci2, train_mean2+train_ci2)\n",
    "     )\n",
    "print(\"Binary Test\\\n",
    "    \\nConfidence Interval: {0}, {1}\\n\".format(test_mean2-test_ci2, test_mean2+test_ci2)\n",
    "     )"
   ]
  },
  {
   "cell_type": "markdown",
   "metadata": {},
   "source": [
    "Confidence intervals of testing data shows that binary encoding method performs better. The reason may be that for binary encoding, features are on the same scale, but for term frequency, the data can be wildly different so it does not present data for different features or different documents equally."
   ]
  },
  {
   "cell_type": "markdown",
   "metadata": {},
   "source": [
    "## Q6 (binary)"
   ]
  },
  {
   "cell_type": "code",
   "execution_count": 69,
   "metadata": {
    "collapsed": true
   },
   "outputs": [],
   "source": [
    "train_scores1,test_scores1,train_mean1,test_mean1,train_ci1,test_ci1 = randomSplitCI(data_bi2, 'LR', 10, c=1.0)\n",
    "train_scores2,test_scores2,train_mean2,test_mean2,train_ci2,test_ci2 = randomSplitCI(data_bi2, 'NB', 10, c=1.0)"
   ]
  },
  {
   "cell_type": "code",
   "execution_count": 70,
   "metadata": {},
   "outputs": [
    {
     "name": "stdout",
     "output_type": "stream",
     "text": [
      "Logistic Regression Train    \n",
      "Confidence Interval: 0.9998215055567025, 0.9999070076961373\n",
      "\n",
      "Logistic Regression    \n",
      "Confidence Interval: 0.9983506048897202, 0.9989160617769468\n",
      "\n",
      "Naive Bayes Train    \n",
      "Confidence Interval: 0.9976451270203236, 0.9978396197111191\n",
      "\n",
      "Naive Bayes Test    \n",
      "Confidence Interval: 0.9969441183768749, 0.9976225482897919\n",
      "\n"
     ]
    }
   ],
   "source": [
    "print(\"Logistic Regression Train\\\n",
    "    \\nConfidence Interval: {0}, {1}\\n\".format(train_mean1-train_ci1, train_mean1+train_ci1)\n",
    "     )\n",
    "print(\"Logistic Regression\\\n",
    "    \\nConfidence Interval: {0}, {1}\\n\".format(test_mean1-test_ci1, test_mean1+test_ci1)\n",
    "     )\n",
    "print(\"Naive Bayes Train\\\n",
    "    \\nConfidence Interval: {0}, {1}\\n\".format(train_mean2-train_ci2, train_mean2+train_ci2)\n",
    "     )\n",
    "print(\"Naive Bayes Test\\\n",
    "    \\nConfidence Interval: {0}, {1}\\n\".format(test_mean2-test_ci2, test_mean2+test_ci2)\n",
    "     )"
   ]
  },
  {
   "cell_type": "markdown",
   "metadata": {},
   "source": [
    "Confidence intervals of both training and testing data shows that logistic regression performs better. The reason may ne that Naive Bayes assumes that the features are conditionally independent and it does not take intercorrelations among features into account."
   ]
  }
 ],
 "metadata": {
  "kernelspec": {
   "display_name": "Python [conda env:py35]",
   "language": "python",
   "name": "conda-env-py35-py"
  },
  "language_info": {
   "codemirror_mode": {
    "name": "ipython",
    "version": 3
   },
   "file_extension": ".py",
   "mimetype": "text/x-python",
   "name": "python",
   "nbconvert_exporter": "python",
   "pygments_lexer": "ipython3",
   "version": "3.5.3"
  }
 },
 "nbformat": 4,
 "nbformat_minor": 2
}
